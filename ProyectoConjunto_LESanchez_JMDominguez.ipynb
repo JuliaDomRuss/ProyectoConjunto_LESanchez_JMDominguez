{
 "cells": [
  {
   "cell_type": "markdown",
   "metadata": {},
   "source": [
    "<img style=\"float: left; margin: 30px 15px 15px 15px;\" src=\"https://pngimage.net/wp-content/uploads/2018/06/logo-iteso-png-5.png\" width=\"300\" height=\"500\" /> \n",
    "    \n",
    "    \n",
    "### <font color='navy'> Simulación de procesos financieros. \n",
    "\n",
    "**Nombres:** Luis Eduardo Sánchez Soto y Julia María Domínguez Russell.\n",
    "\n",
    "**Fecha:** 31 de Enero del 2023.\n",
    "\n",
    "**Expediente** : 734350 y 749767.\n",
    "**Profesor:** Oscar David Jaramillo Zuluaga.\n",
    "    \n",
    "**Link Github**: https://github.com/Zairo9/ProyectoConjunto_LESanchez_JMDominguez\n",
    "\n",
    "# Tarea 1: Clase git"
   ]
  },
  {
   "cell_type": "markdown",
   "metadata": {},
   "source": [
    "\n",
    "Este archivo contiene las pautas necesarias para crear el archivo conjunto en Github, usando los notebooks de Jupyter:\n",
    "\n",
    "1.  El archivo debe realizarse en parejas y sólo uno de los dos debe crear en su cuenta de _Github_ un repositorio con el nombre **ProyectoConjunto\\_APELLIDO1\\_APELLIDO2**, A la persona que creó el repositorio la llamamos (ESTUDIANTE 1 ). El APELLIDO se debe de escribir (Iniciales del nombre y primer apellido), por ejemplo si yo creara el archivo lo debería de nombrar _ProyectoConjunto\\_ODJaramillo_. \n",
    "2.  Posteriormente, desde la cuenta del (ESTUDIANTE 2) 'aquel que no creó el repositorio anterior' ingresar al perfil del ESTUDIANTE 1 y en el repositorio creado en el paso 1, realizar un \"fork\" de este repositorio en su perfil, y además realizar los pasos en Gitkraken para hacer dicho repositorio \"Remoto (REMOTE)\" VER DICHO PROCEDIMIENTO EN LA CLASE **Clase2\\_GitTurorial2**.\n",
    "3.  Luego de realizados los pasos 1 y 2, el ESTUDIANTE 1 y ESTUDIANTE 2, desde su computador realizan un _clone_ del repositorio creado en el numeral 1 en la carpeta que cada quién haya asignado para el curso en su computador. \n",
    "4.  Luego desde Jupyter el ESTUDIANTE 1, crear un nuevo ``notebook`` en el repositorio del paso 3. \n",
    "5.  En este nuevo notebook el ESTUDIANTE 1 y ESTUDIANTE 2, deben realizar una presentación describiendo sus expectativas del curso y la transcipción de la Figura 1 y Figura 2 respectivamente, haciendo uso de la sintaxis Markdown. Recuerden definir unas celdas donde cada usuario modificará el cuaderno de python para evitar futuros conflictos. \n",
    "\n",
    "**RECOMENDACIÓN:ANTES DE EMPEZAR A REALIZAR MUCHAS MODIFICACIONES DEL NOTEBOOK PRIMERO REALICEN CAMBIOS PEQUEÑOS EN EL ARCHIVO EN CONJUNTO Y VERIFIQUEN SI TANTO EL ``ESTUDIANTE 1`` COMO EL ``ESTUDIANTE 2``  RECIBEN LAS ACTUALIZACIONES QUE REALIZAN CADA UNO EN EL PROYECTO PARA VERIFICAR QUE EL REMOTE ESTUVO BIEN CONFIGURADO.**\n",
    ">Les recomiendo ver los siguientes enlaces para ver distintas funciones para escribir en markdown.\n",
    ">    - [Creador de tablas online](https://www.tablesgenerator.com/markdown_tables)\n",
    ">    - [Sintáxis markdown](https://joplinapp.org/markdown/)\n",
    "\n",
    "6. Cuando ya se encuentre el proyecto conjunto con la información del ESTUDIANTE 1 y ESTUDIANTE 2, el ``ESTUDIANTE 2`` , debe de realizar un `pull request` con las modificaciones realizadas a el `ESTUDIANTE 1` para que éste realice un merge a la rama `master`, con las moficaciones propuestas por el `ESTUDIANTE 2`, TAL Y CÓMO SE REALIZÓ EN CLASE. (Recuerden que los pull request se generan en _Gitkraken_ y se administran los comentarios o cambios propuestos por su compañero desde _Github_ ver  `Clase1\\_GitTurorial` para aclaración de dudas donde se explica como crear _branch y pull request_)\n",
    "\n",
    "7.  Luego de culminado los pasos anteriores, el ESTUDIANTE 1, realizará un programa que imprima la serie de fibonacci para sus primeros 100 terminos en un array de python, usando la rama \"master\" del repositorio creado. Por otro lado, el ESTUDIANTE 2, creando un \"branch\" llamado ``ejerPrograma``, generará un programa que muestre los numeros primos del 0-100. Luego de que el ESTUDIANTE 2 haya terminado su programa, debe realizar un \"pull request\" al estudiante 1, **ANTES** de hacer un \"merge\" de la rama ``ejerPrograma`` en el proyecto principal (\"master\"). Luego de realizados estos pasos **NO BORRAR LA RAMA CREADA** (``ejerPrograma``) "
   ]
  },
  {
   "cell_type": "markdown",
   "metadata": {},
   "source": [
    "### Ejercicio 1: (enunciado) Transcribirlo"
   ]
  },
  {
   "cell_type": "markdown",
   "metadata": {},
   "source": [
    "**Código de solución estudiante 1**"
   ]
  },
  {
   "cell_type": "markdown",
   "metadata": {},
   "source": [
    "| $i$ |   $x$  |  $f(x)$  |\n",
    "|:-:|:----:|:------:|\n",
    "| 0 |  -1  | 0.3678 |\n",
    "| <span style=\"color:red\">1 | <span style=\"color:red\">-0.5 | <span style=\"color:red\">0.7788 </span>|\n",
    "| <span style=\"color:blue\">2 |   <span style=\"color:blue\">0  |    <span style=\"color:blue\">1 </span>  |\n",
    "| <span style=\"color:red\">3 |  <span style=\"color:red\">0.5 | <span style=\"color:red\">0.7788 </span> |\n",
    "| 4 |   1  | 0.3678 |\n",
    "    \n",
    "\n",
    "                               Cuadro 1: Tabla de valores de  f(x)"
   ]
  },
  {
   "cell_type": "markdown",
   "metadata": {},
   "source": [
    "\\begin{aligned}\n",
    "\\int_{-1}^{1}e^{-x^2}dx &\\approx \\frac{0,5}{3}[f(-1)+f(1)+4(\\color{red}f\\color{red}(\\color{red}-\\color{red}0\\color{red}.\\color{red}5\\color{red}) \\color{red}+ \\color{red}f\\color{red}(\\color{red}0\\color{red}.\\color{red}5\\color{red})) + 2f\\color{blue}(\\color{blue}0\\color{blue})]\\\\\n",
    "&\\approx \\frac{0,5}{3}[0,3678+0,3678+4(\\color{red}0\\color{red}.\\color{red}7\\color{red}7\\color{red}8\\color{red}8 \\color{red}+ \\color{red}0\\color{red}.\\color{red}7\\color{red}7\\color{red}8\\color{red}8) + 2\\cdot \\color{blue}1]\\approx 1,4943\n",
    "\\end{aligned}"
   ]
  },
  {
   "cell_type": "markdown",
   "metadata": {},
   "source": [
    "A modo de verificación, se calculará por software, el valor del área para n = 100, un valor mucho más elevado al que se utilizó anteriormente. Si lo calculado previamente es correcto, se esperaría que sea próximo al valor presentado a continuación para ser una buena aproximación."
   ]
  },
  {
   "cell_type": "markdown",
   "metadata": {},
   "source": [
    "$$\\int_{-1}^{1}e^{-x^2}dx \\approx 1.4936$$"
   ]
  },
  {
   "cell_type": "markdown",
   "metadata": {},
   "source": [
    "#### Código de solución estudiante 2"
   ]
  },
  {
   "cell_type": "markdown",
   "metadata": {},
   "source": [
    "**Expectativas del curso**\n",
    "\n",
    "Espero terminar el curso con un entendimiento más profundo sobre el comportamiento de procesos financieros. También quiero reforzar mis conocimientos de estadística y probabilidad al verlos en la práctica y no sólo de manera teórica. \n",
    "Por último, quiero poder programar con python con más fluidez y naturalidad. "
   ]
  },
  {
   "cell_type": "markdown",
   "metadata": {},
   "source": [
    "**Transcripción de la figura 2**"
   ]
  },
  {
   "cell_type": "markdown",
   "metadata": {},
   "source": [
    "|      $i$      |  1  |  2  |  3  |  4  | 5 | 6 |  7 |\n",
    "|:-------------:|:---:|:---:|:---:|:---:|:-:|:-:|:--:|\n",
    "|    $E_i(V)$   |  12 |  10 |  24 |  12 | - | - |  - |\n",
    "| $r_i(\\Omega)$ | 0.1 | 0.5 | 0.2 | 0.5 | - | - |  - |\n",
    "| $R_i(\\Omega)$ |  25 |  40 |  16 |  20 | 9 | 4 | 20 |"
   ]
  },
  {
   "cell_type": "markdown",
   "metadata": {},
   "source": [
    "$\\quad$ <font color=#009BC2> Kemna y Vorst (1990) </font> muestran que las opciones asiáticas con media geométrica continua se pueden valuar con el mismo enfoque de las opciones *plain vanilla*; solo se deben cambiar los parámetro de volatilidad $\\sigma$ por $\\sigma_a$ , y el costo de acarreo $b$ por $b_a$. \n",
    "\n",
    "$\\quad$ De acuerdo con Kenma y Vorst, las fórmulas para valuar una opción de compra y una opción de venta son: "
   ]
  },
  {
   "cell_type": "markdown",
   "metadata": {},
   "source": [
    "\n",
    "> $c \\approx S_t e^{(b_a - r)(T-t)}\\Phi(d_1) - Ke^{-r(T-t)}\\Phi(d_2), \\\\\n",
    "p \\approx Ke^{-r(T-t)}\\Phi(-d_2) - S_t e^{(b_a - r)(T-t)}\\Phi(d_1)$"
   ]
  },
  {
   "cell_type": "markdown",
   "metadata": {},
   "source": [
    "con $d_1$ y $d_2$ dados por:"
   ]
  },
  {
   "cell_type": "markdown",
   "metadata": {},
   "source": [
    "> $d_1 = \\frac{In(S_t/K) + (b_A + 1/2\\sigma^2_a)(T-t)}{\\sigma\\sqrt{T-t}}, \\\\\n",
    "d_2 =d_1 - \\sigma_a\\sqrt{T-t}$"
   ]
  },
  {
   "cell_type": "markdown",
   "metadata": {},
   "source": [
    "La función $\\Phi(d)$ es la función de distribución acumulada de $E\\sim\\mathcal N(0, 1)$. La volatilidad ajustada es igual a:"
   ]
  },
  {
   "cell_type": "markdown",
   "metadata": {},
   "source": [
    "> $\\sigma_a = \\frac {\\sigma}{\\sqrt{3}},$"
   ]
  },
  {
   "cell_type": "markdown",
   "metadata": {},
   "source": [
    "mientras que el costo de acarreo ajustado es:"
   ]
  },
  {
   "cell_type": "markdown",
   "metadata": {},
   "source": [
    "> $b_A = \\frac{1}{2} (\\upsilon - \\frac{\\sigma^2}{6}).$"
   ]
  },
  {
   "cell_type": "markdown",
   "metadata": {},
   "source": [
    "**Programa que muestra los números primos del 0 al 100**"
   ]
  },
  {
   "cell_type": "code",
   "execution_count": 18,
   "metadata": {},
   "outputs": [
    {
     "name": "stdout",
     "output_type": "stream",
     "text": [
      "2\n",
      "3\n",
      "5\n",
      "7\n",
      "11\n",
      "13\n",
      "17\n",
      "19\n",
      "23\n",
      "29\n",
      "31\n",
      "37\n",
      "41\n",
      "43\n",
      "47\n",
      "53\n",
      "59\n",
      "61\n",
      "67\n",
      "71\n",
      "73\n",
      "79\n",
      "83\n",
      "89\n",
      "97\n"
     ]
    }
   ],
   "source": [
    "def primo(n):\n",
    "    if n < 2:\n",
    "        return False\n",
    "    for i in range(2,n):\n",
    "        if n%i==0:\n",
    "            return False\n",
    "    return True\n",
    "for i in range(100):\n",
    "    if primo(i):\n",
    "        print(i)"
   ]
  },
  {
   "cell_type": "markdown",
   "metadata": {},
   "source": [
    "### Respuesta planteada en el ejercicio usando (markdown)\n",
    " La respuesta es ........."
   ]
  },
  {
   "cell_type": "code",
   "execution_count": 5,
   "metadata": {},
   "outputs": [],
   "source": [
    "#ESTUDIANTE 1\n",
    "def fibonacci(n):\n",
    "    serie = [0, 1]\n",
    "    for i in range(2, n):\n",
    "        serie.append(serie[i-1] + serie[i-2])\n",
    "        \n",
    "    return serie"
   ]
  },
  {
   "cell_type": "code",
   "execution_count": 6,
   "metadata": {},
   "outputs": [
    {
     "data": {
      "text/plain": [
       "218922995834555169026"
      ]
     },
     "execution_count": 6,
     "metadata": {},
     "output_type": "execute_result"
    }
   ],
   "source": [
    "#mostramos el valor numero 100 de la serie de fibonacci\n",
    "fibonacci(100)[-1]"
   ]
  },
  {
   "cell_type": "markdown",
   "metadata": {},
   "source": [
    "**Estudiante 2: Programa que muestre los números primos del 0-100**\n",
    "\n",
    "Primero se crea una función llamada `primo(n)` que devuelve `True` si n es número primo y `False` si no lo es. Para esto establecemos que `n` no puede ser menor a 2, para que no tome números negativos o el 0 o el 1. Después usa un ciclo for que itera todos los números desde el 2 hasta `n`, comprobando si `i` puede dividir a `n`. Si lo divide sin residuo, es decir, si encontramos un divisor, el número no es primo y se devuelve un `False`. \n",
    "Pero si ningún número consigue dividirlo sin residuo, devolvemos un `True`, indicando que el número es primo.\n",
    "\n",
    "Para imprimir los números primos del 0 al 100 creamos un ciclo for para iterar los números del 0 al 100, y los que cumplan con la función `primo` se imprimen en la pantalla.\n"
   ]
  }
 ],
 "metadata": {
  "kernelspec": {
   "display_name": "Python 3 (ipykernel)",
   "language": "python",
   "name": "python3"
  },
  "language_info": {
   "codemirror_mode": {
    "name": "ipython",
    "version": 3
   },
   "file_extension": ".py",
   "mimetype": "text/x-python",
   "name": "python",
   "nbconvert_exporter": "python",
   "pygments_lexer": "ipython3",
   "version": "3.9.12"
  }
 },
 "nbformat": 4,
 "nbformat_minor": 2
}
